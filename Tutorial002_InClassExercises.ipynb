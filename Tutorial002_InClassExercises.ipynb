{
 "cells": [
  {
   "cell_type": "markdown",
   "metadata": {},
   "source": [
    "# In class exercises for Tutorial00 intro to jupyter and python basics"
   ]
  },
  {
   "cell_type": "markdown",
   "metadata": {},
   "source": [
    "## Exercise 1\n",
    "1. Create a list (my_list) with values from 1 to 100\n",
    "1. Print every 4th value from 20 to 80\n",
    "1. Print the above sequence backwards\n",
    "1. Compute the sum of the above sequence (hint: there is a built in function 'sum')"
   ]
  },
  {
   "cell_type": "code",
   "execution_count": 36,
   "metadata": {},
   "outputs": [
    {
     "name": "stdout",
     "output_type": "stream",
     "text": [
      "[20, 24, 28, 32, 36, 40, 44, 48, 52, 56, 60, 64, 68, 72, 76]\n",
      "[76, 72, 68, 64, 60, 56, 52, 48, 44, 40, 36, 32, 28, 24, 20]\n",
      "The sum of the above sequence is:  5050\n"
     ]
    }
   ],
   "source": [
    "my_list = list(range(1,101))\n",
    "another_list = my_list[19:79:4]\n",
    "print(another_list)\n",
    "print(another_list[::-1])\n",
    "sum_list = sum(my_list[::-1])\n",
    "print('The sum of the above sequence is: ',sum_list)\n",
    "              "
   ]
  },
  {
   "cell_type": "markdown",
   "metadata": {},
   "source": [
    "## Exercise 2\n",
    "Tuples are often used to pass values into functions. One nice feature is that their values can be passed to multiple variables at once, for example:\n",
    "\n",
    "my_tuple = ('A','B')\n",
    "\n",
    "a,b = my_tuple\n",
    "\n",
    "will set a and b to the ordered elements in my_tuple. \n",
    "\n",
    "What are a few different ways that you can make a new tuple that combine our Dr. Seuss themed tuples from earlier?\n",
    "1. By creating lots of temporary variables (messy)\n",
    "1. By using a for loop (less messy)\n",
    "1. By using a list (best?)\n",
    "\n",
    "We want one continuous tuple of strings, **not a tuple of tuples** as in the bad example below"
   ]
  },
  {
   "cell_type": "code",
   "execution_count": 38,
   "metadata": {},
   "outputs": [
    {
     "name": "stdout",
     "output_type": "stream",
     "text": [
      "((1, 'fish', 2, 'fish'), ('red', 'fish', 'blue', 'fish'))\n"
     ]
    }
   ],
   "source": [
    "a_simple_tuple = (1,'fish',2,'fish')\n",
    "annother_tuple = ('red','fish','blue','fish')\n",
    "bad_tuple = (a_simple_tuple,annother_tuple)\n",
    "print(bad_tuple)"
   ]
  },
  {
   "cell_type": "code",
   "execution_count": 56,
   "metadata": {},
   "outputs": [
    {
     "name": "stdout",
     "output_type": "stream",
     "text": [
      "(1, 'fish', 2, 'fish', 'red', 'fish', 'blue', 'fish')\n"
     ]
    }
   ],
   "source": [
    "a = list(a_simple_tuple)\n",
    "b = list(annother_tuple)\n",
    "good_tuple = tuple(a+b)\n",
    "print(good_tuple)"
   ]
  },
  {
   "cell_type": "markdown",
   "metadata": {},
   "source": [
    "## Exercise 3\n",
    "Dictionaries are meant to be called by their keys. The order of a dictionary's keys is **not-predictable** (even though the above example seems to stay in the order we put time in... this is not dependable because a hash is used to link the keys and the items). You can access all values in a dictionary using the values command.\n",
    "1. Create a Tuple of UC Schools in order of enrollment size (this should be challenging as this is not how dictionaries are **typically** used\n",
    " *  To get things started we have a sorted list of school enrollement \n",
    " *  We can loop through each school-size and determine which school it is a match to\n",
    " *  This we can append to a new list (schools_bySize)\n",
    " *  We have started things off below...\n",
    "1. BONUS: have them print together nicely :)"
   ]
  },
  {
   "cell_type": "code",
   "execution_count": 156,
   "metadata": {},
   "outputs": [
    {
     "name": "stdout",
     "output_type": "stream",
     "text": [
      "School:\t San Francisco \t\tNumber of students:\t 0\n",
      "School:\t Merced \t\tNumber of students:\t 6815\n",
      "School:\t Santa Cruz \t\tNumber of students:\t 16962\n",
      "School:\t Riverside \t\tNumber of students:\t 19799\n",
      "School:\t Santa Barbara \t\tNumber of students:\t 21574\n",
      "School:\t Irvine \t\tNumber of students:\t 27331\n",
      "School:\t San Diego \t\tNumber of students:\t 28127\n",
      "School:\t Berkeley \t\tNumber of students:\t 29310\n",
      "School:\t Davis \t\tNumber of students:\t 29379\n",
      "School:\t Los Angeles \t\tNumber of students:\t 30873\n"
     ]
    }
   ],
   "source": [
    "UC_Enrollment = {'Santa Barbara':21574,'Santa Cruz':16962,'Irvine': 27331,'Los Angeles':30873,\n",
    "                 'Merced':6815,'Riverside':19799,'San Diego':28127,'San Francisco':0,\n",
    "                 'Berkeley':29310,'Davis':29379}\n",
    "# source: https://www.thoughtco.com/comparison-university-of-california-campuses-786974\n",
    "\n",
    "# the keys command gives a list of all keys (not technically a list but behaves the same way)\n",
    "size_ordered = sorted(UC_Enrollment.values())\n",
    "school = [] \n",
    "school_ordered = []\n",
    "for size in size_ordered: \n",
    "    school = str([key for key, value in UC_Enrollment.items() if value == size][0])\n",
    "    school_ordered.append(school)\n",
    "    \n",
    "for schools in school_ordered:\n",
    "    num_students = UC_Enrollment[schools]\n",
    "    print('School:\\t', schools, '\\t\\tNumber of students:\\t',num_students)"
   ]
  },
  {
   "cell_type": "markdown",
   "metadata": {},
   "source": [
    "# Exercise 4\n",
    "\n",
    "Write a module (in a .py file) that takes a list of 2 numbers and sorts them from low to high using a if...elif...else statement. \n",
    "\n",
    "Also include another function that will take a longer list of numbers (say ~5) and that uses a 'for' loop to compute the product of all numbers in the array. \n",
    "\n",
    "Bonus - for the first function that sorts the two numbers, do some checking to make sure that the input is exactly two numerical values and return gracefully with a helpful message if not. "
   ]
  },
  {
   "cell_type": "code",
   "execution_count": 160,
   "metadata": {},
   "outputs": [],
   "source": [
    "def sort_list(lista):\n",
    "    if lista.isnumeric() == TRUE:\n",
    "        \n",
    "    if lista[1]== max(lista):\n",
    "        lista = lista\n",
    "    else:\n",
    "        lista = lista[::-1]\n",
    "    return (lista)\n",
    "        "
   ]
  },
  {
   "cell_type": "code",
   "execution_count": 190,
   "metadata": {},
   "outputs": [],
   "source": [
    "def long_list(listb):\n",
    "    product = 1\n",
    "    for i in range(len(listb)):\n",
    "        product = product * listb[i]\n",
    "    return(product)"
   ]
  },
  {
   "cell_type": "code",
   "execution_count": 192,
   "metadata": {},
   "outputs": [
    {
     "data": {
      "text/plain": [
       "24"
      ]
     },
     "execution_count": 192,
     "metadata": {},
     "output_type": "execute_result"
    }
   ],
   "source": [
    "long_list([1,2,3,4])"
   ]
  }
 ],
 "metadata": {
  "kernelspec": {
   "display_name": "Python 3",
   "language": "python",
   "name": "python3"
  },
  "language_info": {
   "codemirror_mode": {
    "name": "ipython",
    "version": 3
   },
   "file_extension": ".py",
   "mimetype": "text/x-python",
   "name": "python",
   "nbconvert_exporter": "python",
   "pygments_lexer": "ipython3",
   "version": "3.7.0"
  }
 },
 "nbformat": 4,
 "nbformat_minor": 2
}
