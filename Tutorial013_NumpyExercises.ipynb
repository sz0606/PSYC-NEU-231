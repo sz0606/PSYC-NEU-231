{
 "cells": [
  {
   "cell_type": "markdown",
   "metadata": {},
   "source": [
    "## EXERCISES\n",
    "\n",
    "### Vector Multiplication\n",
    "1. Produce 2 vectors, one with integers in the range [5,10] and the other [15,20] using the np.arange function\n",
    "1. Without using any functions from the numpy module\n",
    "    1. Compute the outer product of those vectors \n",
    "    1. Compute the \"trace\" of the resulting matrix\n",
    "    \n",
    "    ![trace](https://wikimedia.org/api/rest_v1/media/math/render/svg/3e5b6e82272fc5eeca6d510388e0a2bd0a6c6463)\n",
    "    \n",
    "    \n",
    "Complete the same items using numpy operations"
   ]
  },
  {
   "cell_type": "code",
   "execution_count": 3,
   "metadata": {},
   "outputs": [],
   "source": [
    "import numpy as np"
   ]
  },
  {
   "cell_type": "code",
   "execution_count": 4,
   "metadata": {},
   "outputs": [],
   "source": [
    "x = np.arange(5,10)\n",
    "y = np.arange(15,20)\n",
    "# print(x)"
   ]
  },
  {
   "cell_type": "code",
   "execution_count": 5,
   "metadata": {},
   "outputs": [
    {
     "name": "stdout",
     "output_type": "stream",
     "text": [
      "Outer product of lists x and y is:  [[75, 80, 85, 90, 95], [90, 96, 102, 108, 114], [105, 112, 119, 126, 133], [120, 128, 136, 144, 152], [135, 144, 153, 162, 171]]\n"
     ]
    }
   ],
   "source": [
    "# Non-numpy way to compute the outer product\n",
    "outer_product = []\n",
    "assert(len(x)==len(y)),'Dimension not match!'\n",
    "\n",
    "for i in range(len(x)):\n",
    "    row = []\n",
    "    for j in range(len(y)):\n",
    "        row.append(x[i]*y[j])\n",
    "    outer_product.append(row)\n",
    "\n",
    "print('Outer product of lists x and y is: ', outer_product)\n"
   ]
  },
  {
   "cell_type": "code",
   "execution_count": 6,
   "metadata": {},
   "outputs": [
    {
     "name": "stdout",
     "output_type": "stream",
     "text": [
      "The trace of the outer product matrics is:  605\n"
     ]
    }
   ],
   "source": [
    "# Non-numpy way to compute the trace of the result\n",
    "\n",
    "row = []\n",
    "for i in range(len(x)):\n",
    "    row.append(outer_product[i][i])\n",
    "# print(row)\n",
    "trace = sum(row)\n",
    "print('The trace of the outer product matrics is: ', trace)\n"
   ]
  },
  {
   "cell_type": "code",
   "execution_count": 7,
   "metadata": {},
   "outputs": [
    {
     "name": "stdout",
     "output_type": "stream",
     "text": [
      "Outer product of lists x and y is:  [[ 75  80  85  90  95]\n",
      " [ 90  96 102 108 114]\n",
      " [105 112 119 126 133]\n",
      " [120 128 136 144 152]\n",
      " [135 144 153 162 171]]\n"
     ]
    }
   ],
   "source": [
    "# Numpy way to compute the outer product\n",
    "np_outer = np.outer(x,y)\n",
    "print('Outer product of lists x and y is: ', np_outer)"
   ]
  },
  {
   "cell_type": "code",
   "execution_count": 9,
   "metadata": {},
   "outputs": [
    {
     "name": "stdout",
     "output_type": "stream",
     "text": [
      "The trace of the outer product matrics is:  605\n"
     ]
    }
   ],
   "source": [
    "# Numpy way to compute the trace of the result\n",
    "n_trace = np.trace(outer_product)\n",
    "print('The trace of the outer product matrics is: ', n_trace)"
   ]
  },
  {
   "cell_type": "markdown",
   "metadata": {},
   "source": [
    "### Matrix Multiplication\n",
    "* Two matricies can be multiplied if their inner dimensions match (eg. 2x3 * 3x5 -> 2x5). The best rule for working with and mutliplying matricies is to remember (rows x columns). This applies to both the dimensions of a matrix (a 2x3 matrix has 2 rows and 3 columns) as well as multiplication (you multiply the rows of the first matrix by the columns of the second). \n",
    "\n",
    "* When multiplying two matricies of dimension (M x N)*(N x P) the resulting matrix is (M x P). The upper element of the reslting matrix is the inner (or dot) product of the first row of the first matrix and the first column of the second matrix\n",
    "\n",
    "![two matrices](https://wikimedia.org/api/rest_v1/media/math/render/svg/16b1644351bc2041175b19cbc65da03ef78130c7)\n",
    "\n",
    "![store product in matrix C](https://wikimedia.org/api/rest_v1/media/math/render/svg/00ac0c831c365b7424cc43239aae8cebea27c56c)\n",
    "\n",
    "![matrix multiply](https://wikimedia.org/api/rest_v1/media/math/render/svg/3cfeccef1c8c7e6da0ddf08daed8dbf3c6f50c5e)\n",
    "\n",
    "for i = 1, ..., n and j = 1, ..., p.\n",
    "\n",
    "1. Make two matrices of random numbers (A and B). A should be a 4x3 matrix and B should be a 3x4 matrix. Multiply A by B using (to a resulting matrix C) using:\n",
    "    1. a conventional for-loop\n",
    "    1. list comprehension\n",
    "    1. numpy operator\n",
    "    \n",
    "2. After you have C, pull out the upper quadrant using fancy indexing, and then replace the main diagonal (upper left to lower right) with 0s. "
   ]
  },
  {
   "cell_type": "code",
   "execution_count": 60,
   "metadata": {},
   "outputs": [
    {
     "name": "stdout",
     "output_type": "stream",
     "text": [
      "[[ 0.88578556 -0.35662833 -0.34582787]\n",
      " [ 0.1788416   1.04483239  0.03503968]\n",
      " [ 0.30375621  0.6648446  -0.0076617 ]\n",
      " [ 1.12892743 -0.34755906 -0.64000717]]\n",
      "[[-0.35608461  0.11196304 -0.77112328 -1.69238219]\n",
      " [ 0.45985251  0.23947935 -0.09625476 -2.21213099]\n",
      " [-0.35209681  0.09902407 -0.40657772  0.52666119]]\n",
      "[[-0.35764615 -0.02047516 -0.50811679 -0.89231325]\n",
      " [ 0.4044487   0.27370921 -0.25272536 -2.59552041]\n",
      " [ 0.20026521  0.19246733 -0.29511287 -1.98883007]\n",
      " [-0.33647511 -0.02021118 -0.57687536 -1.47879743]]\n"
     ]
    }
   ],
   "source": [
    "A = np.random.randn(12)\n",
    "B = np.random.randn(12)\n",
    "A = A.reshape(4,3)\n",
    "B = B.reshape(3,4)\n",
    "print(A)\n",
    "print(B)\n",
    "\n",
    "n = A.shape[0]\n",
    "m = A.shape[1]\n",
    "p = B.shape[1]\n",
    "\n",
    "C = np.zeros((4,4))\n",
    "\n",
    "for i in range(n):\n",
    "    for j in range(p):\n",
    "        C[i,j] = sum(A[i,:]*B[:,j])\n",
    "\n",
    "print(C)\n"
   ]
  },
  {
   "cell_type": "code",
   "execution_count": 66,
   "metadata": {},
   "outputs": [
    {
     "name": "stdout",
     "output_type": "stream",
     "text": [
      "[[ 0.         -0.02047516 -0.50811679 -0.89231325]\n",
      " [ 0.4044487   0.         -0.25272536 -2.59552041]\n",
      " [ 0.20026521  0.19246733  0.         -1.98883007]\n",
      " [-0.33647511 -0.02021118 -0.57687536  0.        ]]\n"
     ]
    }
   ],
   "source": [
    "np.fill_diagonal(C,0)\n",
    "print(C)"
   ]
  }
 ],
 "metadata": {
  "kernelspec": {
   "display_name": "Python 3",
   "language": "python",
   "name": "python3"
  },
  "language_info": {
   "codemirror_mode": {
    "name": "ipython",
    "version": 3
   },
   "file_extension": ".py",
   "mimetype": "text/x-python",
   "name": "python",
   "nbconvert_exporter": "python",
   "pygments_lexer": "ipython3",
   "version": "3.7.0"
  }
 },
 "nbformat": 4,
 "nbformat_minor": 2
}
